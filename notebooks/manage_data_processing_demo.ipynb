{
 "cells": [
  {
   "cell_type": "code",
   "execution_count": null,
   "metadata": {},
   "outputs": [],
   "source": [
    "import os\n",
    "import sys\n",
    "\n",
    "def change_working_directory(new_dir):\n",
    "    \"\"\"\n",
    "    Changes the current working directory to the specified path.\n",
    "\n",
    "    Args:\n",
    "        new_dir (str): The new path to the working directory.\n",
    "\n",
    "    Raises:\n",
    "        FileNotFoundError: If the specified directory is not found.\n",
    "        PermissionError: If there are insufficient permissions to access the directory.\n",
    "        Exception: For any other exceptions that occur.\n",
    "    \"\"\"\n",
    "    try:\n",
    "        os.chdir(new_dir)\n",
    "        print(f\"Current working directory changed to: {os.getcwd()}\")\n",
    "    except FileNotFoundError:\n",
    "        print(f\"Error: Directory '{new_dir}' not found.\")\n",
    "    except PermissionError:\n",
    "        print(f\"Error: Insufficient permissions to access '{new_dir}'.\")\n",
    "    except Exception as e:\n",
    "        print(f\"An error occurred: {e}\")\n",
    "\n",
    "sys.path.append(\"Q:/SANDBOX/PredictEstateShowcase_dev/src\")\n",
    "sys.path.append(\"Q:/SANDBOX/PredictEstateShowcase_dev/\")\n",
    "change_working_directory('Q:/SANDBOX/PredictEstateShowcase_dev/')\n"
   ]
  },
  {
   "cell_type": "code",
   "execution_count": 3,
   "metadata": {},
   "outputs": [
    {
     "name": "stderr",
     "output_type": "stream",
     "text": [
      "\u001b[32m2025-01-26 00:00:19.816\u001b[0m | \u001b[1mINFO    \u001b[0m | \u001b[36msrc.core.logger\u001b[0m:\u001b[36m<module>\u001b[0m:\u001b[36m7\u001b[0m - \u001b[1mNew log session started at 20250126-000019. Log file: logs//scraper20250126-000019.log\u001b[0m\n"
     ]
    },
    {
     "name": "stdout",
     "output_type": "stream",
     "text": [
      "['Q:\\\\Python311\\\\python311.zip', 'Q:\\\\Python311\\\\DLLs', 'Q:\\\\Python311\\\\Lib', 'Q:\\\\Python311', 'q:\\\\SANDBOX\\\\PredictEstateShowcase_dev\\\\pes_s_env', '', 'q:\\\\SANDBOX\\\\PredictEstateShowcase_dev\\\\pes_s_env\\\\Lib\\\\site-packages', 'q:\\\\SANDBOX\\\\PredictEstateShowcase_dev\\\\pes_s_env\\\\Lib\\\\site-packages\\\\win32', 'q:\\\\SANDBOX\\\\PredictEstateShowcase_dev\\\\pes_s_env\\\\Lib\\\\site-packages\\\\win32\\\\lib', 'q:\\\\SANDBOX\\\\PredictEstateShowcase_dev\\\\pes_s_env\\\\Lib\\\\site-packages\\\\Pythonwin', 'Q:/SANDBOX/PredictEstateShowcase_dev/src', 'Q:/SANDBOX/PredictEstateShowcase_dev/']\n"
     ]
    },
    {
     "name": "stderr",
     "output_type": "stream",
     "text": [
      "\u001b[32m2025-01-26 00:00:21.628\u001b[0m | \u001b[1mINFO    \u001b[0m | \u001b[36m__main__\u001b[0m:\u001b[36m<module>\u001b[0m:\u001b[36m16\u001b[0m - \u001b[1mEnvironment variables loaded.\u001b[0m\n",
      "\u001b[32m2025-01-26 00:00:21.629\u001b[0m | \u001b[1mINFO    \u001b[0m | \u001b[36msrc.core.file_utils\u001b[0m:\u001b[36mload_data\u001b[0m:\u001b[36m216\u001b[0m - \u001b[1mLoading data from file: config/master_config.json, type: json, load_as: json, encoding: utf-8\u001b[0m\n",
      "\u001b[32m2025-01-26 00:00:21.630\u001b[0m | \u001b[31m\u001b[1mERROR   \u001b[0m | \u001b[36msrc.core.file_utils\u001b[0m:\u001b[36mload_data\u001b[0m:\u001b[36m305\u001b[0m - \u001b[31m\u001b[1mError loading data from file: [Errno 2] No such file or directory: 'config/master_config.json'\u001b[0m\n"
     ]
    },
    {
     "ename": "RuntimeError",
     "evalue": "Failed to load master config from config/master_config.json",
     "output_type": "error",
     "traceback": [
      "\u001b[1;31m---------------------------------------------------------------------------\u001b[0m",
      "\u001b[1;31mRuntimeError\u001b[0m                              Traceback (most recent call last)",
      "Cell \u001b[1;32mIn[3], line 18\u001b[0m\n\u001b[0;32m     15\u001b[0m load_dotenv()\n\u001b[0;32m     16\u001b[0m logger\u001b[38;5;241m.\u001b[39minfo(\u001b[38;5;124m\"\u001b[39m\u001b[38;5;124mEnvironment variables loaded.\u001b[39m\u001b[38;5;124m\"\u001b[39m)\n\u001b[1;32m---> 18\u001b[0m loaded_configs \u001b[38;5;241m=\u001b[39m \u001b[43mload_all_configs_via_master\u001b[49m\u001b[43m(\u001b[49m\u001b[43m)\u001b[49m\n\u001b[0;32m     20\u001b[0m \u001b[38;5;66;03m# Извлекаем конфигурацию для Zillow\u001b[39;00m\n\u001b[0;32m     21\u001b[0m zillow_config \u001b[38;5;241m=\u001b[39m \u001b[38;5;28mnext\u001b[39m(\n\u001b[0;32m     22\u001b[0m             config[\u001b[38;5;124m\"\u001b[39m\u001b[38;5;124mcontent\u001b[39m\u001b[38;5;124m\"\u001b[39m] \n\u001b[0;32m     23\u001b[0m             \u001b[38;5;28;01mfor\u001b[39;00m config \u001b[38;5;129;01min\u001b[39;00m loaded_configs[\u001b[38;5;124m\"\u001b[39m\u001b[38;5;124mloaded_configs\u001b[39m\u001b[38;5;124m\"\u001b[39m][\u001b[38;5;124m\"\u001b[39m\u001b[38;5;124mdata_sources\u001b[39m\u001b[38;5;124m\"\u001b[39m] \n\u001b[0;32m     24\u001b[0m             \u001b[38;5;28;01mif\u001b[39;00m config[\u001b[38;5;124m\"\u001b[39m\u001b[38;5;124mcontent\u001b[39m\u001b[38;5;124m\"\u001b[39m][\u001b[38;5;124m\"\u001b[39m\u001b[38;5;124mconfig_name\u001b[39m\u001b[38;5;124m\"\u001b[39m] \u001b[38;5;241m==\u001b[39m \u001b[38;5;124m\"\u001b[39m\u001b[38;5;124mzillow_config\u001b[39m\u001b[38;5;124m\"\u001b[39m\n\u001b[0;32m     25\u001b[0m         )\n",
      "File \u001b[1;32mQ:\\SANDBOX/PredictEstateShowcase_dev\\src\\core\\config_loader.py:18\u001b[0m, in \u001b[0;36mload_all_configs_via_master\u001b[1;34m()\u001b[0m\n\u001b[0;32m     16\u001b[0m master_config \u001b[38;5;241m=\u001b[39m load_data(master_config_path, file_type\u001b[38;5;241m=\u001b[39m\u001b[38;5;124m\"\u001b[39m\u001b[38;5;124mjson\u001b[39m\u001b[38;5;124m\"\u001b[39m, load_as\u001b[38;5;241m=\u001b[39m\u001b[38;5;124m\"\u001b[39m\u001b[38;5;124mjson\u001b[39m\u001b[38;5;124m\"\u001b[39m, label\u001b[38;5;241m=\u001b[39m\u001b[38;5;124m\"\u001b[39m\u001b[38;5;124mmaster_config\u001b[39m\u001b[38;5;124m\"\u001b[39m)\n\u001b[0;32m     17\u001b[0m \u001b[38;5;28;01mif\u001b[39;00m \u001b[38;5;129;01mnot\u001b[39;00m master_config:\n\u001b[1;32m---> 18\u001b[0m     \u001b[38;5;28;01mraise\u001b[39;00m \u001b[38;5;167;01mRuntimeError\u001b[39;00m(\u001b[38;5;124mf\u001b[39m\u001b[38;5;124m\"\u001b[39m\u001b[38;5;124mFailed to load master config from \u001b[39m\u001b[38;5;132;01m{\u001b[39;00mmaster_config_path\u001b[38;5;132;01m}\u001b[39;00m\u001b[38;5;124m\"\u001b[39m)\n\u001b[0;32m     20\u001b[0m \u001b[38;5;66;03m# Загружаем подконфиги\u001b[39;00m\n\u001b[0;32m     21\u001b[0m loaded_configs \u001b[38;5;241m=\u001b[39m {\u001b[38;5;124m\"\u001b[39m\u001b[38;5;124mmaster_config\u001b[39m\u001b[38;5;124m\"\u001b[39m: master_config, \u001b[38;5;124m\"\u001b[39m\u001b[38;5;124mloaded_configs\u001b[39m\u001b[38;5;124m\"\u001b[39m: {}}\n",
      "\u001b[1;31mRuntimeError\u001b[0m: Failed to load master config from config/master_config.json"
     ]
    }
   ],
   "source": [
    "import sys\n",
    "sys.path.append(\"Q:/SANDBOX/PredictEstateShowcase_dev/src\")\n",
    "sys.path.append(\"Q:/SANDBOX/PredictEstateShowcase_dev/\")\n",
    "print(sys.path)\n",
    "from dotenv import load_dotenv\n",
    "import time\n",
    "from src.core.logger import logger\n",
    "from src.core.config_loader import load_all_configs_via_master, check_and_load_config_zillow\n",
    "from src.analysis.zillow_analysis import run_analysis\n",
    "from src.core.scraper import process_zillow_datasets\n",
    "from src.registry.data_workflow import manage_data_processing\n",
    "\n",
    "\n",
    "# Загрузка переменных окружения\n",
    "load_dotenv()\n",
    "logger.info(\"Environment variables loaded.\")\n",
    "\n",
    "loaded_configs = load_all_configs_via_master()\n",
    "\n",
    "# Извлекаем конфигурацию для Zillow\n",
    "zillow_config = next(\n",
    "            config[\"content\"] \n",
    "            for config in loaded_configs[\"loaded_configs\"][\"data_sources\"] \n",
    "            if config[\"content\"][\"config_name\"] == \"zillow_config\"\n",
    "        )\n",
    "\n",
    "processing_result = manage_data_processing(zillow_config)"
   ]
  }
 ],
 "metadata": {
  "kernelspec": {
   "display_name": "pes_s_env",
   "language": "python",
   "name": "python3"
  },
  "language_info": {
   "codemirror_mode": {
    "name": "ipython",
    "version": 3
   },
   "file_extension": ".py",
   "mimetype": "text/x-python",
   "name": "python",
   "nbconvert_exporter": "python",
   "pygments_lexer": "ipython3",
   "version": "3.11.1"
  }
 },
 "nbformat": 4,
 "nbformat_minor": 2
}
