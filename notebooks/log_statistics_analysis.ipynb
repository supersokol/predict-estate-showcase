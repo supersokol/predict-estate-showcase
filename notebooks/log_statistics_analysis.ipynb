{
 "cells": [
  {
   "cell_type": "code",
   "execution_count": null,
   "metadata": {},
   "outputs": [],
   "source": [
    "import os\n",
    "import sys\n",
    "\n",
    "def change_working_directory(new_dir):\n",
    "    \"\"\"\n",
    "    Changes the current working directory to the specified path.\n",
    "\n",
    "    Args:\n",
    "        new_dir (str): The new path to the working directory.\n",
    "\n",
    "    Raises:\n",
    "        FileNotFoundError: If the specified directory is not found.\n",
    "        PermissionError: If there are insufficient permissions to access the directory.\n",
    "        Exception: For any other exceptions that occur.\n",
    "    \"\"\"\n",
    "    try:\n",
    "        os.chdir(new_dir)\n",
    "        print(f\"Current working directory changed to: {os.getcwd()}\")\n",
    "    except FileNotFoundError:\n",
    "        print(f\"Error: Directory '{new_dir}' not found.\")\n",
    "    except PermissionError:\n",
    "        print(f\"Error: Insufficient permissions to access '{new_dir}'.\")\n",
    "    except Exception as e:\n",
    "        print(f\"An error occurred: {e}\")\n",
    "\n",
    "sys.path.append(\"Q:/SANDBOX/PredictEstateShowcase_dev/src\")\n",
    "sys.path.append(\"Q:/SANDBOX/PredictEstateShowcase_dev/\")\n",
    "change_working_directory('Q:/SANDBOX/PredictEstateShowcase_dev/')\n"
   ]
  },
  {
   "cell_type": "code",
   "execution_count": null,
   "metadata": {},
   "outputs": [],
   "source": [
    "# Import libraries\n",
    "import re\n",
    "import pandas as pd\n",
    "import matplotlib.pyplot as plt\n",
    "\n",
    "# Path to the log file\n",
    "log_file = \"../logs/app.log\"\n",
    "\n",
    "# Parsing logs\n",
    "logs = []\n",
    "with open(log_file, \"r\") as f:\n",
    "    for line in f:\n",
    "        # Regular expression to match log entries with time, level, and message\n",
    "        match = re.search(r\"(?P<time>\\d{4}-\\d{2}-\\d{2} \\d{2}:\\d{2}:\\d{2}).*?(?P<level>INFO|ERROR|WARNING).*?: (?P<message>.+)\", line)\n",
    "        if match:\n",
    "            logs.append(match.groupdict())\n",
    "\n",
    "# Creating a DataFrame from the parsed logs\n",
    "log_df = pd.DataFrame(logs)\n",
    "\n",
    "# Logging level statistics\n",
    "log_stats = log_df[\"level\"].value_counts()\n",
    "print(\"Log level statistics:\")\n",
    "print(log_stats)\n",
    "\n",
    "# Visualizing log activity over time\n",
    "log_df[\"time\"] = pd.to_datetime(log_df[\"time\"])\n",
    "log_df.set_index(\"time\", inplace=True)\n",
    "log_df.resample(\"1H\").size().plot(kind=\"line\", title=\"Log Activity\", xlabel=\"Time\", ylabel=\"Number of Entries\")\n",
    "plt.show()\n"
   ]
  }
 ],
 "metadata": {
  "language_info": {
   "name": "python"
  }
 },
 "nbformat": 4,
 "nbformat_minor": 2
}
