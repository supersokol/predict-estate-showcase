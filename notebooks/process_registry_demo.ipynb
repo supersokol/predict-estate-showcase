{
 "cells": [
  {
   "cell_type": "code",
   "execution_count": null,
   "metadata": {},
   "outputs": [],
   "source": [
    "# Import libraries\n",
    "import json\n",
    "from tabulate import tabulate\n",
    "\n",
    "# Load the process registry from a JSON file\n",
    "with open(\"../data/process_registry.json\", \"r\") as f:\n",
    "    process_registry = json.load(f)\n",
    "\n",
    "# Display all registered processes in a tabular format\n",
    "print(\"Registered Processes:\")\n",
    "process_table = [(p[\"id\"], p[\"name\"], p[\"status\"], p[\"description\"]) for p in process_registry]\n",
    "print(tabulate(process_table, headers=[\"ID\", \"Name\", \"Status\", \"Description\"]))\n",
    "\n",
    "# Filter processes by status\n",
    "status_filter = \"completed\"\n",
    "filtered_processes = [p for p in process_registry if p[\"status\"] == status_filter]\n",
    "print(f\"\\nProcesses with status '{status_filter}':\")\n",
    "print(tabulate([(p[\"id\"], p[\"name\"]) for p in filtered_processes], headers=[\"ID\", \"Name\"]))\n"
   ]
  }
 ],
 "metadata": {
  "language_info": {
   "name": "python"
  }
 },
 "nbformat": 4,
 "nbformat_minor": 2
}
