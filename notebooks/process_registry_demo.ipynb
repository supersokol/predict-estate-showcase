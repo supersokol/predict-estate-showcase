{
 "cells": [
  {
   "cell_type": "code",
   "execution_count": null,
   "metadata": {},
   "outputs": [],
   "source": [
    "import os\n",
    "import sys\n",
    "\n",
    "def change_working_directory(new_dir):\n",
    "    \"\"\"\n",
    "    Changes the current working directory to the specified path.\n",
    "\n",
    "    Args:\n",
    "        new_dir (str): The new path to the working directory.\n",
    "\n",
    "    Raises:\n",
    "        FileNotFoundError: If the specified directory is not found.\n",
    "        PermissionError: If there are insufficient permissions to access the directory.\n",
    "        Exception: For any other exceptions that occur.\n",
    "    \"\"\"\n",
    "    try:\n",
    "        os.chdir(new_dir)\n",
    "        print(f\"Current working directory changed to: {os.getcwd()}\")\n",
    "    except FileNotFoundError:\n",
    "        print(f\"Error: Directory '{new_dir}' not found.\")\n",
    "    except PermissionError:\n",
    "        print(f\"Error: Insufficient permissions to access '{new_dir}'.\")\n",
    "    except Exception as e:\n",
    "        print(f\"An error occurred: {e}\")\n",
    "\n",
    "sys.path.append(\"Q:/SANDBOX/PredictEstateShowcase_dev/src\")\n",
    "sys.path.append(\"Q:/SANDBOX/PredictEstateShowcase_dev/\")\n",
    "change_working_directory('Q:/SANDBOX/PredictEstateShowcase_dev/')\n"
   ]
  },
  {
   "cell_type": "code",
   "execution_count": null,
   "metadata": {},
   "outputs": [],
   "source": [
    "# Import libraries\n",
    "import json\n",
    "from tabulate import tabulate\n",
    "\n",
    "# Load the process registry from a JSON file\n",
    "with open(\"../data/process_registry.json\", \"r\") as f:\n",
    "    process_registry = json.load(f)\n",
    "\n",
    "# Display all registered processes in a tabular format\n",
    "print(\"Registered Processes:\")\n",
    "process_table = [(p[\"id\"], p[\"name\"], p[\"status\"], p[\"description\"]) for p in process_registry]\n",
    "print(tabulate(process_table, headers=[\"ID\", \"Name\", \"Status\", \"Description\"]))\n",
    "\n",
    "# Filter processes by status\n",
    "status_filter = \"completed\"\n",
    "filtered_processes = [p for p in process_registry if p[\"status\"] == status_filter]\n",
    "print(f\"\\nProcesses with status '{status_filter}':\")\n",
    "print(tabulate([(p[\"id\"], p[\"name\"]) for p in filtered_processes], headers=[\"ID\", \"Name\"]))\n"
   ]
  }
 ],
 "metadata": {
  "language_info": {
   "name": "python"
  }
 },
 "nbformat": 4,
 "nbformat_minor": 2
}
