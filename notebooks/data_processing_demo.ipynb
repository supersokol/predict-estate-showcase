{
 "cells": [
  {
   "cell_type": "code",
   "execution_count": 5,
   "metadata": {},
   "outputs": [
    {
     "name": "stderr",
     "output_type": "stream",
     "text": [
      "\u001b[32m2025-01-25 23:56:35.777\u001b[0m | \u001b[31m\u001b[1mERROR   \u001b[0m | \u001b[36msrc.core.config_loader\u001b[0m:\u001b[36mcheck_and_load_config_zillow\u001b[0m:\u001b[36m120\u001b[0m - \u001b[31m\u001b[1mFailed to check and load Zillow config: 'data_config_path'\u001b[0m\n",
      "\u001b[32m2025-01-25 23:56:35.778\u001b[0m | \u001b[31m\u001b[1mERROR   \u001b[0m | \u001b[36msrc.registry.data_workflow\u001b[0m:\u001b[36mmanage_data_processing\u001b[0m:\u001b[36m109\u001b[0m - \u001b[31m\u001b[1mError in manage_data_processing: Failed to load Zillow configuration.\u001b[0m\n"
     ]
    },
    {
     "name": "stdout",
     "output_type": "stream",
     "text": [
      "['Q:\\\\Python311\\\\python311.zip', 'Q:\\\\Python311\\\\DLLs', 'Q:\\\\Python311\\\\Lib', 'Q:\\\\Python311', 'q:\\\\SANDBOX\\\\PredictEstateShowcase_dev\\\\pes_s_env', '', 'q:\\\\SANDBOX\\\\PredictEstateShowcase_dev\\\\pes_s_env\\\\Lib\\\\site-packages', 'q:\\\\SANDBOX\\\\PredictEstateShowcase_dev\\\\pes_s_env\\\\Lib\\\\site-packages\\\\win32', 'q:\\\\SANDBOX\\\\PredictEstateShowcase_dev\\\\pes_s_env\\\\Lib\\\\site-packages\\\\win32\\\\lib', 'q:\\\\SANDBOX\\\\PredictEstateShowcase_dev\\\\pes_s_env\\\\Lib\\\\site-packages\\\\Pythonwin', 'Q:/SANDBOX/PredictEstateShowcase_dev/src', 'Q:/SANDBOX/PredictEstateShowcase_dev/', 'Q:/SANDBOX/PredictEstateShowcase_dev/src', 'Q:/SANDBOX/PredictEstateShowcase_dev/', 'Q:/SANDBOX/PredictEstateShowcase_dev/src', 'Q:/SANDBOX/PredictEstateShowcase_dev/', 'Q:/SANDBOX/PredictEstateShowcase_dev/src', 'Q:/SANDBOX/PredictEstateShowcase_dev/']\n"
     ]
    },
    {
     "ename": "RuntimeError",
     "evalue": "Failed to load Zillow configuration.",
     "output_type": "error",
     "traceback": [
      "\u001b[1;31m---------------------------------------------------------------------------\u001b[0m",
      "\u001b[1;31mRuntimeError\u001b[0m                              Traceback (most recent call last)",
      "Cell \u001b[1;32mIn[5], line 19\u001b[0m\n\u001b[0;32m     12\u001b[0m config \u001b[38;5;241m=\u001b[39m {\n\u001b[0;32m     13\u001b[0m     \u001b[38;5;124m\"\u001b[39m\u001b[38;5;124mname\u001b[39m\u001b[38;5;124m\"\u001b[39m: \u001b[38;5;124m\"\u001b[39m\u001b[38;5;124mzillow_test\u001b[39m\u001b[38;5;124m\"\u001b[39m,  \u001b[38;5;66;03m# Prefix for the dataset\u001b[39;00m\n\u001b[0;32m     14\u001b[0m     \u001b[38;5;124m\"\u001b[39m\u001b[38;5;124mdescription\u001b[39m\u001b[38;5;124m\"\u001b[39m: \u001b[38;5;124m\"\u001b[39m\u001b[38;5;124mtest config\u001b[39m\u001b[38;5;124m\"\u001b[39m  \u001b[38;5;66;03m# Path to the data configuration file\u001b[39;00m\n\u001b[0;32m     15\u001b[0m     \n\u001b[0;32m     16\u001b[0m }\n\u001b[0;32m     18\u001b[0m \u001b[38;5;66;03m# Execute the data processing workflow\u001b[39;00m\n\u001b[1;32m---> 19\u001b[0m result \u001b[38;5;241m=\u001b[39m \u001b[43mmanage_data_processing\u001b[49m\u001b[43m(\u001b[49m\u001b[43mregistry\u001b[49m\u001b[43m \u001b[49m\u001b[38;5;241;43m=\u001b[39;49m\u001b[43m \u001b[49m\u001b[43mdata_registry\u001b[49m\u001b[43m,\u001b[49m\u001b[43m \u001b[49m\u001b[43mconfig\u001b[49m\u001b[38;5;241;43m=\u001b[39;49m\u001b[43mconfig\u001b[49m\u001b[43m)\u001b[49m\n\u001b[0;32m     21\u001b[0m \u001b[38;5;66;03m# Print the results of the data processing\u001b[39;00m\n\u001b[0;32m     22\u001b[0m \u001b[38;5;28mprint\u001b[39m(\u001b[38;5;124m\"\u001b[39m\u001b[38;5;124mData processing results:\u001b[39m\u001b[38;5;124m\"\u001b[39m)\n",
      "File \u001b[1;32mQ:\\SANDBOX/PredictEstateShowcase_dev\\src\\registry\\data_workflow.py:45\u001b[0m, in \u001b[0;36mmanage_data_processing\u001b[1;34m(registry, config)\u001b[0m\n\u001b[0;32m     43\u001b[0m zillow_data \u001b[38;5;241m=\u001b[39m check_and_load_config_zillow(config)\n\u001b[0;32m     44\u001b[0m \u001b[38;5;28;01mif\u001b[39;00m \u001b[38;5;129;01mnot\u001b[39;00m zillow_data:\n\u001b[1;32m---> 45\u001b[0m     \u001b[38;5;28;01mraise\u001b[39;00m \u001b[38;5;167;01mRuntimeError\u001b[39;00m(\u001b[38;5;124m\"\u001b[39m\u001b[38;5;124mFailed to load Zillow configuration.\u001b[39m\u001b[38;5;124m\"\u001b[39m)\n\u001b[0;32m     46\u001b[0m logger\u001b[38;5;241m.\u001b[39mdebug(\u001b[38;5;124mf\u001b[39m\u001b[38;5;124m\"\u001b[39m\u001b[38;5;124mLoaded Zillow data: \u001b[39m\u001b[38;5;132;01m{\u001b[39;00mzillow_data\u001b[38;5;132;01m}\u001b[39;00m\u001b[38;5;124m\"\u001b[39m)\n\u001b[0;32m     47\u001b[0m \u001b[38;5;66;03m# Step 2: Extract timestamp from the JSON filename\u001b[39;00m\n",
      "\u001b[1;31mRuntimeError\u001b[0m: Failed to load Zillow configuration."
     ]
    }
   ],
   "source": [
    "import sys\n",
    "sys.path.append(\"Q:/SANDBOX/PredictEstateShowcase_dev/src\")\n",
    "sys.path.append(\"Q:/SANDBOX/PredictEstateShowcase_dev/\")\n",
    "print(sys.path)\n",
    "# Import the main function for data processing\n",
    "from src.registry.data_workflow import manage_data_processing\n",
    "from src.registry import DataSourceRegistry\n",
    "\n",
    "data_registry = DataSourceRegistry()\n",
    "\n",
    "# Configuration settings for data processing\n",
    "config = {\n",
    "    \"name\": \"zillow_test\",  # Prefix for the dataset\n",
    "    \"description\": \"test config\"  # Path to the data configuration file\n",
    "    \n",
    "}\n",
    "\n",
    "# Execute the data processing workflow\n",
    "result = manage_data_processing(registry = data_registry, config=config)\n",
    "\n",
    "# Print the results of the data processing\n",
    "print(\"Data processing results:\")\n",
    "print(result)\n"
   ]
  }
 ],
 "metadata": {
  "kernelspec": {
   "display_name": "pes_s_env",
   "language": "python",
   "name": "python3"
  },
  "language_info": {
   "codemirror_mode": {
    "name": "ipython",
    "version": 3
   },
   "file_extension": ".py",
   "mimetype": "text/x-python",
   "name": "python",
   "nbconvert_exporter": "python",
   "pygments_lexer": "ipython3",
   "version": "3.11.1"
  }
 },
 "nbformat": 4,
 "nbformat_minor": 2
}
