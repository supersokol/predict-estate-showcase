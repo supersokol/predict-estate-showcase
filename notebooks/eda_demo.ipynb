{
 "cells": [
  {
   "cell_type": "code",
   "execution_count": null,
   "metadata": {},
   "outputs": [],
   "source": [
    "import os\n",
    "import sys\n",
    "\n",
    "def change_working_directory(new_dir):\n",
    "    \"\"\"\n",
    "    Changes the current working directory to the specified path.\n",
    "\n",
    "    Args:\n",
    "        new_dir (str): The new path to the working directory.\n",
    "\n",
    "    Raises:\n",
    "        FileNotFoundError: If the specified directory is not found.\n",
    "        PermissionError: If there are insufficient permissions to access the directory.\n",
    "        Exception: For any other exceptions that occur.\n",
    "    \"\"\"\n",
    "    try:\n",
    "        os.chdir(new_dir)\n",
    "        print(f\"Current working directory changed to: {os.getcwd()}\")\n",
    "    except FileNotFoundError:\n",
    "        print(f\"Error: Directory '{new_dir}' not found.\")\n",
    "    except PermissionError:\n",
    "        print(f\"Error: Insufficient permissions to access '{new_dir}'.\")\n",
    "    except Exception as e:\n",
    "        print(f\"An error occurred: {e}\")\n",
    "\n",
    "sys.path.append(\"Q:/SANDBOX/PredictEstateShowcase_dev/src\")\n",
    "sys.path.append(\"Q:/SANDBOX/PredictEstateShowcase_dev/\")\n",
    "change_working_directory('Q:/SANDBOX/PredictEstateShowcase_dev/')\n"
   ]
  },
  {
   "cell_type": "code",
   "execution_count": null,
   "metadata": {},
   "outputs": [],
   "source": [
    "# Import libraries\n",
    "import pandas as pd\n",
    "import seaborn as sns\n",
    "import matplotlib.pyplot as plt\n",
    "\n",
    "# Path to the file\n",
    "file_path = \"../data/sample_data.csv\"\n",
    "\n",
    "# Load the data\n",
    "df = pd.read_csv(file_path)\n",
    "\n",
    "# Initial analysis\n",
    "print(f\"Data dimensions (rows, columns): {df.shape}\")\n",
    "print(\"Data types for each column:\")\n",
    "print(df.dtypes)\n",
    "print(\"\\nMissing values in each column:\")\n",
    "print(df.isnull().sum())\n",
    "\n",
    "# Visualization of the distribution of a specific column\n",
    "sns.histplot(df[\"column_name\"], kde=True)\n",
    "plt.title(\"Distribution of values in 'column_name'\")\n",
    "plt.xlabel(\"Values\")\n",
    "plt.ylabel(\"Frequency\")\n",
    "plt.show()\n",
    "\n",
    "# Correlation matrix to understand relationships between numeric features\n",
    "correlation_matrix = df.corr()\n",
    "sns.heatmap(correlation_matrix, annot=True, cmap=\"coolwarm\")\n",
    "plt.title(\"Correlation Matrix\")\n",
    "plt.show()\n"
   ]
  }
 ],
 "metadata": {
  "language_info": {
   "name": "python"
  }
 },
 "nbformat": 4,
 "nbformat_minor": 2
}
