{
 "cells": [
  {
   "cell_type": "code",
   "execution_count": null,
   "metadata": {},
   "outputs": [],
   "source": [
    "import os\n",
    "import sys\n",
    "\n",
    "def change_working_directory(new_dir):\n",
    "    \"\"\"\n",
    "    Changes the current working directory to the specified path.\n",
    "\n",
    "    Args:\n",
    "        new_dir (str): The new path to the working directory.\n",
    "\n",
    "    Raises:\n",
    "        FileNotFoundError: If the specified directory is not found.\n",
    "        PermissionError: If there are insufficient permissions to access the directory.\n",
    "        Exception: For any other exceptions that occur.\n",
    "    \"\"\"\n",
    "    try:\n",
    "        os.chdir(new_dir)\n",
    "        print(f\"Current working directory changed to: {os.getcwd()}\")\n",
    "    except FileNotFoundError:\n",
    "        print(f\"Error: Directory '{new_dir}' not found.\")\n",
    "    except PermissionError:\n",
    "        print(f\"Error: Insufficient permissions to access '{new_dir}'.\")\n",
    "    except Exception as e:\n",
    "        print(f\"An error occurred: {e}\")\n",
    "\n",
    "sys.path.append(\"Q:/SANDBOX/PredictEstateShowcase_dev/src\")\n",
    "sys.path.append(\"Q:/SANDBOX/PredictEstateShowcase_dev/\")\n",
    "change_working_directory('Q:/SANDBOX/PredictEstateShowcase_dev/')\n"
   ]
  },
  {
   "cell_type": "code",
   "execution_count": null,
   "metadata": {},
   "outputs": [],
   "source": [
    "from dotenv import load_dotenv\n",
    "import time\n",
    "from core.logger import logger\n",
    "from core.config_loader import load_all_configs_via_master, check_and_load_config_zillow\n",
    "from analysis.zillow_analysis import run_analysis\n",
    "from core.scraper import process_zillow_datasets\n",
    "from registry.data_workflow import manage_data_processing\n",
    "\n",
    "\n",
    "# Загрузка переменных окружения\n",
    "load_dotenv()\n",
    "logger.info(\"Environment variables loaded.\")\n",
    "\n",
    "loaded_configs = load_all_configs_via_master()\n",
    "\n",
    "# Извлекаем конфигурацию для Zillow\n",
    "zillow_config = next(\n",
    "            config[\"content\"] \n",
    "            for config in loaded_configs[\"loaded_configs\"][\"data_sources\"] \n",
    "            if config[\"content\"][\"config_name\"] == \"zillow_config\"\n",
    "        )\n",
    "\n",
    "processing_result = manage_data_processing(zillow_config)\n",
    "\n",
    "## Используем check_and_load_config_zillow для загрузки JSON\n",
    "#zillow_json_data = check_and_load_config_zillow(zillow_config)\n",
    "\n",
    "#run_analysis(zillow_json_data )\n",
    "\n",
    "#DB_FILE = \"data/db_files/zillow_datasets.db\"\n",
    "\n",
    "#zillow_datasets = zillow_json_data .copy()\n",
    "#processing_result = process_zillow_datasets(zillow_datasets)"
   ]
  }
 ],
 "metadata": {
  "language_info": {
   "name": "python"
  }
 },
 "nbformat": 4,
 "nbformat_minor": 2
}
